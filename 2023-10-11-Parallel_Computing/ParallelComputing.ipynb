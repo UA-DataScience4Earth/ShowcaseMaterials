{
 "cells": [
  {
   "cell_type": "code",
   "execution_count": 93,
   "id": "1c068c13-6ca4-41d6-836a-47313a8b795e",
   "metadata": {
    "tags": []
   },
   "outputs": [],
   "source": [
    "import time"
   ]
  },
  {
   "cell_type": "markdown",
   "id": "44022575-5adc-43ef-bf69-ccfa106379de",
   "metadata": {
    "tags": []
   },
   "source": [
    "## How to make a cake?"
   ]
  },
  {
   "cell_type": "code",
   "execution_count": 94,
   "id": "866c2976-2670-4b93-b2d7-f5d7fd82347f",
   "metadata": {
    "tags": []
   },
   "outputs": [],
   "source": [
    "makeCake = lambda: ['slice_0', 'slice_1', 'slice_2', 'slice_3']"
   ]
  },
  {
   "cell_type": "code",
   "execution_count": 95,
   "id": "36bce3e9-85db-4f4b-b366-642e13ee0edc",
   "metadata": {
    "tags": []
   },
   "outputs": [
    {
     "data": {
      "text/plain": [
       "['slice_0', 'slice_1', 'slice_2', 'slice_3']"
      ]
     },
     "execution_count": 95,
     "metadata": {},
     "output_type": "execute_result"
    }
   ],
   "source": [
    "cake = makeCake()\n",
    "cake"
   ]
  },
  {
   "cell_type": "markdown",
   "id": "6ac1b2b0-8d8f-4c42-8736-3dc077a03205",
   "metadata": {
    "jp-MarkdownHeadingCollapsed": true,
    "tags": []
   },
   "source": [
    "## But how do we eat a cake?"
   ]
  },
  {
   "cell_type": "markdown",
   "id": "6eb4cd0e-bfe4-4ab1-836f-eaeaad462256",
   "metadata": {
    "jp-MarkdownHeadingCollapsed": true,
    "tags": []
   },
   "source": [
    "### The old boring way -  for loop"
   ]
  },
  {
   "cell_type": "code",
   "execution_count": 26,
   "id": "f06fb2c7-3786-4932-8d59-724f42c7878a",
   "metadata": {
    "tags": []
   },
   "outputs": [],
   "source": [
    "def EatSlice(cakeSlice):\n",
    "    return f\"{cakeSlice}_eaten\""
   ]
  },
  {
   "cell_type": "code",
   "execution_count": 9,
   "id": "456da2ec-f866-476f-8fbc-fc4d29262493",
   "metadata": {
    "tags": []
   },
   "outputs": [
    {
     "name": "stdout",
     "output_type": "stream",
     "text": [
      "Eating slice 0\n",
      "Eating slice 1\n",
      "Eating slice 2\n",
      "Eating slice 3\n"
     ]
    }
   ],
   "source": [
    "for cakeSlice_i, cakeSlice in enumerate(cake):\n",
    "    \n",
    "    print(f\"Eating slice {cakeSlice_i}\")\n",
    "    \n",
    "    cake[cakeSlice_i] = EatSlice(cakeSlice)\n",
    "    time.sleep(.5)"
   ]
  },
  {
   "cell_type": "code",
   "execution_count": 10,
   "id": "aa408e4c-0a82-4130-aee2-1e3699e7dc75",
   "metadata": {
    "tags": []
   },
   "outputs": [
    {
     "data": {
      "text/plain": [
       "['slice_0_eaten', 'slice_1_eaten', 'slice_2_eaten', 'slice_3_eaten']"
      ]
     },
     "execution_count": 10,
     "metadata": {},
     "output_type": "execute_result"
    }
   ],
   "source": [
    "cake"
   ]
  },
  {
   "cell_type": "markdown",
   "id": "456f7c14-aac9-47f2-be58-b4c3330c4e36",
   "metadata": {
    "jp-MarkdownHeadingCollapsed": true,
    "tags": []
   },
   "source": [
    "### The old boring way -  for loop 2, modify cake in loop"
   ]
  },
  {
   "cell_type": "code",
   "execution_count": 97,
   "id": "ca143717-e2a8-4b09-a4e7-4e1d79e6d3d6",
   "metadata": {
    "tags": []
   },
   "outputs": [
    {
     "data": {
      "text/plain": [
       "['slice_0', 'slice_1', 'slice_2', 'slice_3']"
      ]
     },
     "execution_count": 97,
     "metadata": {},
     "output_type": "execute_result"
    }
   ],
   "source": [
    "bananaCake = makeCake()\n",
    "bananaCake"
   ]
  },
  {
   "cell_type": "code",
   "execution_count": 101,
   "id": "bc45215e-ae8d-4b53-a562-0f6ab8cade3e",
   "metadata": {
    "tags": []
   },
   "outputs": [],
   "source": [
    "def EatSliceOfCake(cakeSlice_i):\n",
    "    bananaCake[cakeSlice_i] =  f\"{bananaCake[cakeSlice_i]}_eaten\""
   ]
  },
  {
   "cell_type": "code",
   "execution_count": 102,
   "id": "f56f6ca5-5be4-4fd9-84ca-884240af3bb9",
   "metadata": {
    "tags": []
   },
   "outputs": [
    {
     "name": "stdout",
     "output_type": "stream",
     "text": [
      "Eating slice 0\n",
      "Eating slice 1\n",
      "Eating slice 2\n",
      "Eating slice 3\n"
     ]
    }
   ],
   "source": [
    "for cakeSlice_i in range(len(bananaCake)):\n",
    "    \n",
    "    print(f\"Eating slice {cakeSlice_i}\")\n",
    "    \n",
    "    EatSliceOfCake(cakeSlice_i)\n",
    "    time.sleep(.5)"
   ]
  },
  {
   "cell_type": "code",
   "execution_count": 103,
   "id": "044d2baf-6536-4de5-8f11-e33e40089efb",
   "metadata": {
    "tags": []
   },
   "outputs": [
    {
     "data": {
      "text/plain": [
       "['slice_0_eaten', 'slice_1_eaten', 'slice_2_eaten', 'slice_3_eaten']"
      ]
     },
     "execution_count": 103,
     "metadata": {},
     "output_type": "execute_result"
    }
   ],
   "source": [
    "bananaCake"
   ]
  },
  {
   "cell_type": "code",
   "execution_count": null,
   "id": "39f37651-c94f-4f4d-8cfb-e2c4fc5730d2",
   "metadata": {},
   "outputs": [],
   "source": []
  },
  {
   "cell_type": "markdown",
   "id": "6ffcc66d-94e2-4f15-9641-596dde1566e0",
   "metadata": {
    "jp-MarkdownHeadingCollapsed": true,
    "tags": []
   },
   "source": [
    "### The old boring way -  map and lambda functions"
   ]
  },
  {
   "cell_type": "code",
   "execution_count": 11,
   "id": "4e1b47db-6c8a-4515-9b19-3fabccc923db",
   "metadata": {
    "tags": []
   },
   "outputs": [],
   "source": [
    "EatSliceLambda = lambda cakeSlice: f\"{cakeSlice}_eaten\""
   ]
  },
  {
   "cell_type": "code",
   "execution_count": 12,
   "id": "0bf0ea05-e69e-4c93-84e7-caa6c4ebdbd0",
   "metadata": {
    "tags": []
   },
   "outputs": [
    {
     "data": {
      "text/plain": [
       "'Slice_eaten'"
      ]
     },
     "execution_count": 12,
     "metadata": {},
     "output_type": "execute_result"
    }
   ],
   "source": [
    "EatSliceLambda('Slice')"
   ]
  },
  {
   "cell_type": "code",
   "execution_count": 13,
   "id": "4f5c7064-89fc-48c8-8b2f-72ce4cf352f4",
   "metadata": {
    "tags": []
   },
   "outputs": [
    {
     "data": {
      "text/plain": [
       "['slice_0', 'slice_1', 'slice_2', 'slice_3']"
      ]
     },
     "execution_count": 13,
     "metadata": {},
     "output_type": "execute_result"
    }
   ],
   "source": [
    "chocolateCake = makeCake()\n",
    "chocolateCake"
   ]
  },
  {
   "cell_type": "code",
   "execution_count": 32,
   "id": "10ff2702-d320-40e1-9a4f-5f1b7627577e",
   "metadata": {
    "tags": []
   },
   "outputs": [],
   "source": [
    "chocolateCake = list(map(EatSliceLambda, chocolateCake))"
   ]
  },
  {
   "cell_type": "code",
   "execution_count": 32,
   "id": "72af14f3-d74d-4ad2-a0a3-e29070c5580a",
   "metadata": {
    "tags": []
   },
   "outputs": [
    {
     "data": {
      "text/plain": [
       "['slice_0_eaten', 'slice_1_eaten', 'slice_2_eaten', 'slice_3_eaten']"
      ]
     },
     "execution_count": 32,
     "metadata": {},
     "output_type": "execute_result"
    }
   ],
   "source": [
    "chocolateCake"
   ]
  },
  {
   "cell_type": "markdown",
   "id": "9c171c8b-fc78-44e9-9b2d-025a942ecd24",
   "metadata": {
    "jp-MarkdownHeadingCollapsed": true,
    "tags": []
   },
   "source": [
    "## Parallel computing - Multiprocessing"
   ]
  },
  {
   "cell_type": "code",
   "execution_count": 104,
   "id": "32e0ff8c-ebb9-41c9-806d-b33229e16eef",
   "metadata": {
    "tags": []
   },
   "outputs": [],
   "source": [
    "import multiprocess ## multiprocess for within notebook, otherwise you can use multiprocessing"
   ]
  },
  {
   "cell_type": "code",
   "execution_count": 105,
   "id": "9f2cfe6a-f1d7-46ba-aa54-ca77df9a6556",
   "metadata": {
    "tags": []
   },
   "outputs": [
    {
     "data": {
      "text/plain": [
       "['slice_0', 'slice_1', 'slice_2', 'slice_3']"
      ]
     },
     "execution_count": 105,
     "metadata": {},
     "output_type": "execute_result"
    }
   ],
   "source": [
    "strawberryCake = makeCake()\n",
    "strawberryCake"
   ]
  },
  {
   "cell_type": "code",
   "execution_count": 106,
   "id": "bed62969-d385-4cac-87b4-d73a734df720",
   "metadata": {
    "tags": []
   },
   "outputs": [],
   "source": [
    "def EatSliceParallel(cakeSlice_i):\n",
    "    strawberryCake[cakeSlice_i] = EatSlice(strawberryCake[cakeSlice_i])"
   ]
  },
  {
   "cell_type": "code",
   "execution_count": 107,
   "id": "5d7ad388-daac-42d0-81c4-d662152be0f7",
   "metadata": {
    "tags": []
   },
   "outputs": [],
   "source": [
    "with multiprocess.Pool(2) as pool:\n",
    "    pool.map(EatSliceParallel, range(len(strawberryCake)))"
   ]
  },
  {
   "cell_type": "code",
   "execution_count": 108,
   "id": "2833baf3-cbbc-4a91-abe6-093e165ff9c8",
   "metadata": {
    "tags": []
   },
   "outputs": [
    {
     "data": {
      "text/plain": [
       "['slice_0', 'slice_1', 'slice_2', 'slice_3']"
      ]
     },
     "execution_count": 108,
     "metadata": {},
     "output_type": "execute_result"
    }
   ],
   "source": [
    "strawberryCake"
   ]
  },
  {
   "cell_type": "markdown",
   "id": "93c95333-05e5-4705-9ee4-23447f816079",
   "metadata": {
    "tags": []
   },
   "source": [
    "<b> Nothing happened?</b>"
   ]
  },
  {
   "cell_type": "code",
   "execution_count": null,
   "id": "3b2064e6-3bb9-4bc9-a98f-7a2237dc2056",
   "metadata": {
    "tags": []
   },
   "outputs": [],
   "source": []
  },
  {
   "cell_type": "code",
   "execution_count": null,
   "id": "731d1b74-ad43-4776-b393-bfd3f9c5ecf5",
   "metadata": {
    "tags": []
   },
   "outputs": [],
   "source": []
  },
  {
   "cell_type": "markdown",
   "id": "d678fc3b-4f68-467c-b77d-242ec569703b",
   "metadata": {
    "jp-MarkdownHeadingCollapsed": true,
    "tags": []
   },
   "source": [
    "### Correclty return result from multiprocessing"
   ]
  },
  {
   "cell_type": "code",
   "execution_count": 109,
   "id": "b79a6b24-4322-49df-88fd-f1cc58cf4ebf",
   "metadata": {
    "tags": []
   },
   "outputs": [],
   "source": [
    "def EatSliceParallel(cakeSlice_i):\n",
    "    return EatSlice(strawberryCake[cakeSlice_i])"
   ]
  },
  {
   "cell_type": "code",
   "execution_count": 110,
   "id": "0ee95f61-d5d2-45f0-8394-1792a0fc71ad",
   "metadata": {
    "tags": []
   },
   "outputs": [],
   "source": [
    "with multiprocess.Pool(2) as pool:\n",
    "    strawberryCake = pool.map(EatSliceParallel, range(len(strawberryCake)))"
   ]
  },
  {
   "cell_type": "code",
   "execution_count": 111,
   "id": "cc82b3ed-b9aa-4904-98c9-5baea51eccce",
   "metadata": {
    "tags": []
   },
   "outputs": [
    {
     "data": {
      "text/plain": [
       "['slice_0_eaten', 'slice_1_eaten', 'slice_2_eaten', 'slice_3_eaten']"
      ]
     },
     "execution_count": 111,
     "metadata": {},
     "output_type": "execute_result"
    }
   ],
   "source": [
    "strawberryCake"
   ]
  },
  {
   "cell_type": "code",
   "execution_count": null,
   "id": "9aba16d2-36f6-4e13-927e-c3f92f1eb45e",
   "metadata": {
    "tags": []
   },
   "outputs": [],
   "source": []
  },
  {
   "cell_type": "code",
   "execution_count": null,
   "id": "edaaa0fe-ac0c-4dd1-8913-217fa26fcc5a",
   "metadata": {
    "tags": []
   },
   "outputs": [],
   "source": []
  },
  {
   "cell_type": "markdown",
   "id": "5436aa51-a614-4d20-aa46-bc758ec8f161",
   "metadata": {
    "jp-MarkdownHeadingCollapsed": true,
    "tags": []
   },
   "source": [
    "### More memory efficient, only pass slice we need"
   ]
  },
  {
   "cell_type": "code",
   "execution_count": 112,
   "id": "9f6ea3b3-517b-44fe-8f40-074e619c36d3",
   "metadata": {
    "tags": []
   },
   "outputs": [
    {
     "data": {
      "text/plain": [
       "['slice_0', 'slice_1', 'slice_2', 'slice_3']"
      ]
     },
     "execution_count": 112,
     "metadata": {},
     "output_type": "execute_result"
    }
   ],
   "source": [
    "lemonCake = makeCake()\n",
    "lemonCake"
   ]
  },
  {
   "cell_type": "code",
   "execution_count": 113,
   "id": "78628c5f-a4de-4b29-9e77-abaaaeb016fd",
   "metadata": {
    "tags": []
   },
   "outputs": [],
   "source": [
    "def EatSliceParallel(cakeSlice):\n",
    "    return EatSlice(cakeSlice)"
   ]
  },
  {
   "cell_type": "code",
   "execution_count": 114,
   "id": "88229eae-0d91-432d-a9a0-a07b69d68574",
   "metadata": {
    "tags": []
   },
   "outputs": [],
   "source": [
    "with multiprocess.Pool(2) as pool:\n",
    "    lemonCake = pool.map(EatSliceParallel, lemonCake)"
   ]
  },
  {
   "cell_type": "code",
   "execution_count": 115,
   "id": "843c816b-1968-4314-992f-1c6035f7021e",
   "metadata": {
    "tags": []
   },
   "outputs": [
    {
     "data": {
      "text/plain": [
       "['slice_0_eaten', 'slice_1_eaten', 'slice_2_eaten', 'slice_3_eaten']"
      ]
     },
     "execution_count": 115,
     "metadata": {},
     "output_type": "execute_result"
    }
   ],
   "source": [
    "lemonCake"
   ]
  },
  {
   "cell_type": "code",
   "execution_count": 43,
   "id": "d81ba90f-709b-41ea-bd01-9c5f5aaa64dd",
   "metadata": {
    "tags": []
   },
   "outputs": [],
   "source": []
  },
  {
   "cell_type": "markdown",
   "id": "2f59b46d-3cde-4e42-979e-9fd03c072c79",
   "metadata": {
    "jp-MarkdownHeadingCollapsed": true,
    "tags": []
   },
   "source": [
    "### What if we need multiple arguments? - partial"
   ]
  },
  {
   "cell_type": "code",
   "execution_count": 132,
   "id": "b047553c-733e-48ce-8e3a-054c4597933b",
   "metadata": {
    "tags": []
   },
   "outputs": [],
   "source": [
    "from functools import partial"
   ]
  },
  {
   "cell_type": "code",
   "execution_count": null,
   "id": "71255cc4-e44b-4d06-8c38-81ea1287b0e4",
   "metadata": {},
   "outputs": [],
   "source": []
  },
  {
   "cell_type": "code",
   "execution_count": 133,
   "id": "301dae3d-0bf2-447d-a1f7-6d3d5311ded3",
   "metadata": {
    "tags": []
   },
   "outputs": [
    {
     "data": {
      "text/plain": [
       "['slice_0', 'slice_1', 'slice_2', 'slice_3']"
      ]
     },
     "execution_count": 133,
     "metadata": {},
     "output_type": "execute_result"
    }
   ],
   "source": [
    "borcoliCake = makeCake()\n",
    "borcoliCake"
   ]
  },
  {
   "cell_type": "code",
   "execution_count": 134,
   "id": "94c2450b-97d6-4aa1-9d5e-33d0fdd8077f",
   "metadata": {
    "tags": []
   },
   "outputs": [],
   "source": [
    "def EatSliceParallelWithArgument(cakeSlice, mood):\n",
    "    return f\"Ate {EatSlice(cakeSlice)} and was {mood}\""
   ]
  },
  {
   "cell_type": "code",
   "execution_count": 135,
   "id": "32282e20-9fcc-45b2-ab0b-58f2e4d00b19",
   "metadata": {
    "tags": []
   },
   "outputs": [],
   "source": [
    "with multiprocess.Pool(2) as pool:\n",
    "    borcoliCake = pool.map(partial(EatSliceParallelWithArgument, mood='Happy'), borcoliCake)"
   ]
  },
  {
   "cell_type": "code",
   "execution_count": 137,
   "id": "e84f19f7-bc53-4e12-9fad-f1436d32bdef",
   "metadata": {
    "tags": []
   },
   "outputs": [
    {
     "data": {
      "text/plain": [
       "['Ate slice_0_eaten and was Happy',\n",
       " 'Ate slice_1_eaten and was Happy',\n",
       " 'Ate slice_2_eaten and was Happy',\n",
       " 'Ate slice_3_eaten and was Happy']"
      ]
     },
     "execution_count": 137,
     "metadata": {},
     "output_type": "execute_result"
    }
   ],
   "source": [
    "borcoliCake"
   ]
  },
  {
   "cell_type": "code",
   "execution_count": 136,
   "id": "40d78d86-3f0e-4545-9392-74f74a1e93ea",
   "metadata": {
    "tags": []
   },
   "outputs": [],
   "source": []
  },
  {
   "cell_type": "code",
   "execution_count": null,
   "id": "fd737557-747a-409c-a2b9-1dcebbfb5845",
   "metadata": {
    "tags": []
   },
   "outputs": [],
   "source": []
  },
  {
   "cell_type": "markdown",
   "id": "0c8d2a84-c687-4489-ba09-7622ff70a9a6",
   "metadata": {
    "jp-MarkdownHeadingCollapsed": true,
    "tags": []
   },
   "source": [
    "### What if we have different values for each element of a list? - zip"
   ]
  },
  {
   "cell_type": "code",
   "execution_count": null,
   "id": "14504920-241b-4b67-8cc6-1680c7336bf0",
   "metadata": {},
   "outputs": [],
   "source": []
  },
  {
   "cell_type": "code",
   "execution_count": 155,
   "id": "8eb351c3-202c-49c1-9ac3-4cb9d62d4d57",
   "metadata": {
    "tags": []
   },
   "outputs": [
    {
     "data": {
      "text/plain": [
       "['slice_0', 'slice_1', 'slice_2', 'slice_3']"
      ]
     },
     "execution_count": 155,
     "metadata": {},
     "output_type": "execute_result"
    }
   ],
   "source": [
    "cheeseCake = makeCake()\n",
    "cheeseCake"
   ]
  },
  {
   "cell_type": "code",
   "execution_count": null,
   "id": "8c45157c-dd8a-42af-9f93-975bfbca083e",
   "metadata": {
    "tags": []
   },
   "outputs": [],
   "source": []
  },
  {
   "cell_type": "code",
   "execution_count": 156,
   "id": "7c569f66-b389-4242-b18c-4c8ef99246ce",
   "metadata": {
    "tags": []
   },
   "outputs": [],
   "source": [
    "moods = ['happy', 'sad', 'full', 'yes']"
   ]
  },
  {
   "cell_type": "code",
   "execution_count": 157,
   "id": "ac65c223-25c8-4051-b161-9c9b2bff1923",
   "metadata": {
    "tags": []
   },
   "outputs": [
    {
     "data": {
      "text/plain": [
       "[('slice_0', 'happy'),\n",
       " ('slice_1', 'sad'),\n",
       " ('slice_2', 'full'),\n",
       " ('slice_3', 'yes')]"
      ]
     },
     "execution_count": 157,
     "metadata": {},
     "output_type": "execute_result"
    }
   ],
   "source": [
    "list(zip(cheeseCake, moods))"
   ]
  },
  {
   "cell_type": "code",
   "execution_count": 158,
   "id": "7c5f8cf4-438d-4757-a49c-e432ee8c3541",
   "metadata": {
    "tags": []
   },
   "outputs": [],
   "source": [
    "def EatSliceParallelWithZip(cakeSliceWithMood):\n",
    "    cakeSlice = cakeSliceWithMood[0]\n",
    "    mood = cakeSliceWithMood[1]\n",
    "    if mood == 'happy':\n",
    "        return f\"Ate {EatSlice(cakeSlice)} and was super happy about it\"\n",
    "    if mood == 'sad':\n",
    "        return f\"Did not eat {cakeSlice} because sad\"\n",
    "    \n",
    "    return f\"{cakeSlice} ?\""
   ]
  },
  {
   "cell_type": "code",
   "execution_count": 159,
   "id": "026a72b3-97a1-4c93-bc2e-e0153b741a6b",
   "metadata": {
    "tags": []
   },
   "outputs": [],
   "source": [
    "with multiprocess.Pool(2) as pool:\n",
    "    cheeseCake = pool.map(EatSliceParallelWithZip, list(zip(cheeseCake, moods)))"
   ]
  },
  {
   "cell_type": "code",
   "execution_count": 160,
   "id": "1aae8f78-62c8-45ba-8dcd-3db7e1c5bbd7",
   "metadata": {
    "tags": []
   },
   "outputs": [
    {
     "data": {
      "text/plain": [
       "['Ate slice_0_eaten and was super happy about it',\n",
       " 'Did not eat slice_1 because sad',\n",
       " 'slice_2 ?',\n",
       " 'slice_3 ?']"
      ]
     },
     "execution_count": 160,
     "metadata": {},
     "output_type": "execute_result"
    }
   ],
   "source": [
    "cheeseCake"
   ]
  },
  {
   "cell_type": "code",
   "execution_count": null,
   "id": "6a421975-d9b5-4455-ac18-535dd1bdfe62",
   "metadata": {},
   "outputs": [],
   "source": []
  },
  {
   "cell_type": "markdown",
   "id": "04dee2b2-7ae4-44a6-bbaa-31594ef76717",
   "metadata": {
    "jp-MarkdownHeadingCollapsed": true,
    "tags": []
   },
   "source": [
    "## Other library: joblib"
   ]
  },
  {
   "cell_type": "code",
   "execution_count": 163,
   "id": "c524cf62-2896-47f2-8398-f128d6c15fe8",
   "metadata": {
    "tags": []
   },
   "outputs": [],
   "source": [
    "import joblib"
   ]
  },
  {
   "cell_type": "code",
   "execution_count": null,
   "id": "341505f5-91f8-4636-aab1-09fef2abc5e6",
   "metadata": {},
   "outputs": [],
   "source": []
  },
  {
   "cell_type": "code",
   "execution_count": 162,
   "id": "e514b89a-6ec8-45e6-a1d8-036d8d41e7eb",
   "metadata": {
    "tags": []
   },
   "outputs": [
    {
     "data": {
      "text/plain": [
       "['slice_0', 'slice_1', 'slice_2', 'slice_3']"
      ]
     },
     "execution_count": 162,
     "metadata": {},
     "output_type": "execute_result"
    }
   ],
   "source": [
    "melonCake = makeCake()\n",
    "melonCake"
   ]
  },
  {
   "cell_type": "code",
   "execution_count": 165,
   "id": "06d2779f-cb10-450c-956e-d0275799ae73",
   "metadata": {
    "tags": []
   },
   "outputs": [],
   "source": [
    "def EatSliceParallelJoblib(cakeSlice_i):\n",
    "    return EatSlice(melonCake[cakeSlice_i])"
   ]
  },
  {
   "cell_type": "code",
   "execution_count": 168,
   "id": "bed0d1de-a147-4068-bbb2-b151e390505a",
   "metadata": {
    "tags": []
   },
   "outputs": [],
   "source": [
    "with joblib.Parallel(2) as parallel:\n",
    "    melonCake = parallel(joblib.delayed(EatSliceParallelJoblib)(index) for index in range(len(melonCake)))"
   ]
  },
  {
   "cell_type": "code",
   "execution_count": 169,
   "id": "bc77514f-9772-441b-a020-d1bfd10f3ab9",
   "metadata": {
    "tags": []
   },
   "outputs": [
    {
     "data": {
      "text/plain": [
       "['slice_0_eaten', 'slice_1_eaten', 'slice_2_eaten', 'slice_3_eaten']"
      ]
     },
     "execution_count": 169,
     "metadata": {},
     "output_type": "execute_result"
    }
   ],
   "source": [
    "melonCake"
   ]
  },
  {
   "cell_type": "markdown",
   "id": "6fda3ea5-aa62-4285-982a-8f66975a654a",
   "metadata": {
    "jp-MarkdownHeadingCollapsed": true,
    "tags": []
   },
   "source": [
    "### with slices"
   ]
  },
  {
   "cell_type": "code",
   "execution_count": 180,
   "id": "1c4d442f-356e-4e79-a3bf-d8bc0a81a3a4",
   "metadata": {
    "tags": []
   },
   "outputs": [
    {
     "data": {
      "text/plain": [
       "['slice_0', 'slice_1', 'slice_2', 'slice_3']"
      ]
     },
     "execution_count": 180,
     "metadata": {},
     "output_type": "execute_result"
    }
   ],
   "source": [
    "orangeCake = makeCake()\n",
    "orangeCake"
   ]
  },
  {
   "cell_type": "code",
   "execution_count": 181,
   "id": "f4fce439-8511-48b8-84c1-b801e5c07503",
   "metadata": {
    "tags": []
   },
   "outputs": [],
   "source": [
    "def EatSliceParallelJoblibSlices(cakeSlice):\n",
    "    return EatSlice(cakeSlice)"
   ]
  },
  {
   "cell_type": "code",
   "execution_count": 182,
   "id": "414d1be8-d160-47ff-8ae0-efc472373825",
   "metadata": {
    "tags": []
   },
   "outputs": [],
   "source": [
    "with joblib.Parallel(2) as parallel:\n",
    "    orangeCake = parallel(joblib.delayed(EatSliceParallelJoblibSlices)(cakeSlice) for cakeSlice in orangeCake)"
   ]
  },
  {
   "cell_type": "code",
   "execution_count": 183,
   "id": "41bedfe1-ac5a-48e8-9daa-a9ce66c34849",
   "metadata": {
    "tags": []
   },
   "outputs": [
    {
     "data": {
      "text/plain": [
       "['slice_0_eaten', 'slice_1_eaten', 'slice_2_eaten', 'slice_3_eaten']"
      ]
     },
     "execution_count": 183,
     "metadata": {},
     "output_type": "execute_result"
    }
   ],
   "source": [
    "orangeCake"
   ]
  },
  {
   "cell_type": "code",
   "execution_count": null,
   "id": "ca1b0223-a98e-4bd6-80c0-648165407159",
   "metadata": {},
   "outputs": [],
   "source": []
  },
  {
   "cell_type": "markdown",
   "id": "c4c506fa-9f1e-4be9-921b-e49c7273e277",
   "metadata": {
    "jp-MarkdownHeadingCollapsed": true,
    "tags": []
   },
   "source": [
    "## Concrete example of what I use parallel computing for"
   ]
  },
  {
   "cell_type": "code",
   "execution_count": 34,
   "id": "a9ce2c80-3621-4428-ab7e-485a679369b7",
   "metadata": {
    "tags": []
   },
   "outputs": [],
   "source": [
    "import rasterio as rio\n",
    "from pathlib import Path\n",
    "from py_linq import Enumerable\n",
    "import numpy as np\n",
    "import multiprocess"
   ]
  },
  {
   "cell_type": "markdown",
   "id": "65914a85-72a6-4e6c-8a13-8ec7cce22bf2",
   "metadata": {
    "jp-MarkdownHeadingCollapsed": true,
    "tags": []
   },
   "source": [
    "### Calculate NDVI values of Landsat images for a large number of raster images"
   ]
  },
  {
   "cell_type": "code",
   "execution_count": 140,
   "id": "b9e4cc26-8efb-47e8-a135-1094d2e8ca4d",
   "metadata": {},
   "outputs": [],
   "source": [
    "rasterPath = Path('Data')/'Raster'"
   ]
  },
  {
   "cell_type": "code",
   "execution_count": 141,
   "id": "d9aea880-ef81-45ca-bebd-2fd77a2217e7",
   "metadata": {},
   "outputs": [],
   "source": [
    "landsatImagesPath = rasterPath/'LandsatImagesExample'"
   ]
  },
  {
   "cell_type": "code",
   "execution_count": 142,
   "id": "5632cdcb-9432-4e59-acfe-e2f315a03e92",
   "metadata": {},
   "outputs": [],
   "source": [
    "rasters = landsatImagesPath.iterdir()"
   ]
  },
  {
   "cell_type": "code",
   "execution_count": 143,
   "id": "a1f1083f-ebcb-42bd-8912-bf2ce017a8f9",
   "metadata": {
    "tags": []
   },
   "outputs": [],
   "source": [
    "rasters = Enumerable(rasters).where(lambda f: f.suffix == '.tif')"
   ]
  },
  {
   "cell_type": "code",
   "execution_count": 144,
   "id": "7ed1fb0f-4d84-4052-b4ea-eeb66e49842b",
   "metadata": {
    "tags": []
   },
   "outputs": [
    {
     "data": {
      "text/plain": [
       "[PosixPath('Data/Raster/LandsatImagesExample/Raster_0.tif'), PosixPath('Data/Raster/LandsatImagesExample/Raster_1.tif'), PosixPath('Data/Raster/LandsatImagesExample/Raster_999.tif')]"
      ]
     },
     "execution_count": 144,
     "metadata": {},
     "output_type": "execute_result"
    }
   ],
   "source": [
    "rasters"
   ]
  },
  {
   "cell_type": "code",
   "execution_count": 148,
   "id": "22b84d17-8b17-4a78-b0bb-1d4211b582d8",
   "metadata": {
    "tags": []
   },
   "outputs": [],
   "source": [
    "outPath = landsatImagesPath.parent/'NDVI'\n",
    "outPath.mkdir(exist_ok=True)"
   ]
  },
  {
   "cell_type": "code",
   "execution_count": 146,
   "id": "997eaa29-cc79-4930-8b87-da26f9860e07",
   "metadata": {
    "tags": []
   },
   "outputs": [],
   "source": [
    "GetNDVI = lambda RED, NIR: (NIR - RED) / (NIR + RED)"
   ]
  },
  {
   "cell_type": "code",
   "execution_count": 147,
   "id": "b5503207-7da2-47cd-987d-d90e1fd5f162",
   "metadata": {
    "tags": []
   },
   "outputs": [],
   "source": [
    "def generateNDVIRaster(file):\n",
    "    with rio.open(file) as r:\n",
    "            ndviFile = outPath/file.name\n",
    "            \n",
    "            if ndviFile.exists():\n",
    "                return\n",
    "            \n",
    "            profile = r.profile.copy()\n",
    "\n",
    "            data = r.read()\n",
    "            mask = data==r.nodata\n",
    "            data = data * 1.0\n",
    "            data[mask] = np.NaN\n",
    "            BLUE = data[0,::]\n",
    "            RED = data[2,::]\n",
    "            NIR = data[3,::]\n",
    "\n",
    "            profile.update(count = 1, dtype='float32')\n",
    "            \n",
    "            NDVI = GetNDVI(RED, NIR)\n",
    "            \n",
    "            NDVI = np.clip(np.interp(NDVI, (-1, 1), (0.0, 1.0)), 0.0, 1.0)\n",
    "\n",
    "            NDVI[np.isnan(NDVI)] = r.nodata\n",
    "            NDVI[np.isinf(NDVI)] = r.nodata\n",
    "\n",
    "            with rio.open(ndviFile, 'w', **profile) as dst:\n",
    "                dst.write(NDVI, 1)"
   ]
  },
  {
   "cell_type": "code",
   "execution_count": 31,
   "id": "1bcc2ab4-3e81-4efc-9c4b-c127d67d0ea0",
   "metadata": {
    "tags": []
   },
   "outputs": [],
   "source": [
    "for file in rasters:\n",
    "    generateNDVIRaster(file)"
   ]
  },
  {
   "cell_type": "code",
   "execution_count": 42,
   "id": "a542e040-8792-4287-9f93-ab57246af842",
   "metadata": {
    "tags": []
   },
   "outputs": [],
   "source": [
    "with multiprocess.Pool(2) as pool:\n",
    "    pool.map(generateNDVIRaster, rasters)"
   ]
  },
  {
   "cell_type": "code",
   "execution_count": null,
   "id": "ff95f9f7-dd1a-45e6-9c39-c47b050d49ce",
   "metadata": {},
   "outputs": [],
   "source": []
  },
  {
   "cell_type": "markdown",
   "id": "0422bd62-5c33-4cef-9c67-f0e63a7587f1",
   "metadata": {
    "jp-MarkdownHeadingCollapsed": true,
    "tags": []
   },
   "source": [
    "### Download multiple images from earth engine"
   ]
  },
  {
   "cell_type": "code",
   "execution_count": 43,
   "id": "99647b7e-62c3-4497-83bb-f84ad02ac208",
   "metadata": {
    "tags": []
   },
   "outputs": [],
   "source": [
    "import geemap\n",
    "import ee"
   ]
  },
  {
   "cell_type": "code",
   "execution_count": 51,
   "id": "f9193667-1a15-4fde-8cb7-67f2c490bf8a",
   "metadata": {
    "tags": []
   },
   "outputs": [],
   "source": [
    "_ = geemap.Map()"
   ]
  },
  {
   "cell_type": "code",
   "execution_count": null,
   "id": "364180d9-af3d-4fc1-90de-87720acfed6b",
   "metadata": {},
   "outputs": [],
   "source": []
  },
  {
   "cell_type": "code",
   "execution_count": 47,
   "id": "a7a4e961-29b1-4e6f-93ab-2e27c743489e",
   "metadata": {
    "tags": []
   },
   "outputs": [],
   "source": [
    "tucson = ee.Geometry.Polygon(\\\n",
    "        [[[-111.13183568891769, 32.314901949559655],\\\n",
    "          [-111.13183568891769, 32.15401640825052],\\\n",
    "          [-110.82833837446456, 32.15401640825052],\\\n",
    "          [-110.82833837446456, 32.314901949559655]]])"
   ]
  },
  {
   "cell_type": "code",
   "execution_count": null,
   "id": "b5b2f5c2-9592-49bd-8bd8-cf81b94ab284",
   "metadata": {},
   "outputs": [],
   "source": []
  },
  {
   "cell_type": "code",
   "execution_count": 67,
   "id": "2c1a2ce1-e786-4d9b-8e74-c9f2fd45c45c",
   "metadata": {
    "tags": []
   },
   "outputs": [],
   "source": [
    "landsat = ee.ImageCollection(\"LANDSAT/LC09/C02/T1_L2\")"
   ]
  },
  {
   "cell_type": "code",
   "execution_count": 120,
   "id": "d91b83b7-2bd8-4327-bdd2-122fda002764",
   "metadata": {
    "tags": []
   },
   "outputs": [],
   "source": [
    "tucsonLandsat = landsat.filterDate(ee.Date('2023-09-03'), ee.Date('2023-09-04'))\\\n",
    "                       .filterBounds(tucson)"
   ]
  },
  {
   "cell_type": "code",
   "execution_count": 121,
   "id": "0a9f2d39-6601-4d35-9798-5743eff48dbf",
   "metadata": {
    "tags": []
   },
   "outputs": [],
   "source": [
    "crs = tucsonLandsat.first().projection().crs().getInfo()"
   ]
  },
  {
   "cell_type": "code",
   "execution_count": 122,
   "id": "fb76fc42-9589-4a76-bf31-35867dc44585",
   "metadata": {
    "tags": []
   },
   "outputs": [],
   "source": [
    "scale = tucsonLandsat.first().projection().nominalScale().getInfo()"
   ]
  },
  {
   "cell_type": "code",
   "execution_count": 123,
   "id": "117e0e6a-bb4c-4c8c-a2cb-69c3124804ed",
   "metadata": {
    "tags": []
   },
   "outputs": [],
   "source": [
    "tucsonLandsat = tucsonLandsat.mosaic().setDefaultProjection(crs=crs, scale=scale)"
   ]
  },
  {
   "cell_type": "code",
   "execution_count": 124,
   "id": "2a68275a-7ea3-4f78-9646-978fbfd7f2b1",
   "metadata": {
    "tags": []
   },
   "outputs": [],
   "source": [
    "coveringGrid = tucson.coveringGrid(proj='EPSG:4326', scale=256*30)"
   ]
  },
  {
   "cell_type": "code",
   "execution_count": null,
   "id": "9183d88e-e2a2-4bb1-b725-892b99a42c46",
   "metadata": {
    "tags": []
   },
   "outputs": [],
   "source": []
  },
  {
   "cell_type": "code",
   "execution_count": 125,
   "id": "9886190c-364d-4701-826e-14977a3f03fe",
   "metadata": {
    "tags": []
   },
   "outputs": [
    {
     "data": {
      "application/vnd.jupyter.widget-view+json": {
       "model_id": "3c49951b6fe64dc4b7ab3a212cb82fad",
       "version_major": 2,
       "version_minor": 0
      },
      "text/plain": [
       "Map(center=[20, 0], controls=(WidgetControl(options=['position', 'transparent_bg'], widget=HBox(children=(Togg…"
      ]
     },
     "execution_count": 125,
     "metadata": {},
     "output_type": "execute_result"
    }
   ],
   "source": [
    "Map = geemap.Map()\n",
    "Map.addLayer(tucson)\n",
    "Map.centerObject(tucson)\n",
    "Map"
   ]
  },
  {
   "cell_type": "code",
   "execution_count": 126,
   "id": "aca6fb7b-458b-4afc-82a0-d69b52369fc4",
   "metadata": {
    "tags": []
   },
   "outputs": [
    {
     "data": {
      "application/vnd.jupyter.widget-view+json": {
       "model_id": "7c0fac002a064ce98d5283f5f77ac7c0",
       "version_major": 2,
       "version_minor": 0
      },
      "text/plain": [
       "Map(center=[20, 0], controls=(WidgetControl(options=['position', 'transparent_bg'], widget=HBox(children=(Togg…"
      ]
     },
     "execution_count": 126,
     "metadata": {},
     "output_type": "execute_result"
    }
   ],
   "source": [
    "Map = geemap.Map()\n",
    "Map.centerObject(tucson)\n",
    "Map.addLayer(tucsonLandsat)\n",
    "Map.addLayer(coveringGrid.draw('red'))\n",
    "Map"
   ]
  },
  {
   "cell_type": "code",
   "execution_count": null,
   "id": "2f870a42-86d4-484a-9bf8-c05340fd266f",
   "metadata": {},
   "outputs": [],
   "source": []
  },
  {
   "cell_type": "code",
   "execution_count": 127,
   "id": "17586fd5-9bae-4eea-956e-537fe65614aa",
   "metadata": {
    "tags": []
   },
   "outputs": [],
   "source": [
    "n = coveringGrid.size().getInfo()"
   ]
  },
  {
   "cell_type": "code",
   "execution_count": 128,
   "id": "1e730b94-0ee5-47fd-bc8a-a51a5ebab53c",
   "metadata": {
    "tags": []
   },
   "outputs": [],
   "source": [
    "gridList = coveringGrid.toList(n)"
   ]
  },
  {
   "cell_type": "code",
   "execution_count": 134,
   "id": "0233aa95-9c87-4ad4-a594-dbef3a915049",
   "metadata": {
    "tags": []
   },
   "outputs": [],
   "source": [
    "outputPath = rasterPath/'LandsatTucson'\n",
    "outputPath.mkdir(exist_ok=True)\n",
    "    \n",
    "def downloadGridElement(grid_element_i):\n",
    "    grid_element = ee.Feature(gridList.get(grid_element_i))\n",
    "    ID = grid_element.id().getInfo()\n",
    "    grid_element = grid_element.geometry()\n",
    "\n",
    "    outputFilePath = outputPath / f'{ID}.tif'\n",
    "    \n",
    "    if outputFilePath.exists():\n",
    "        return\n",
    "\n",
    "    geemap.download_ee_image(tucsonLandsat,\\\n",
    "                             outputFilePath,\\\n",
    "                             crs='EPSG:4326',\\\n",
    "                             region=grid_element,\\\n",
    "                             shape=(256, 256))"
   ]
  },
  {
   "cell_type": "code",
   "execution_count": 133,
   "id": "736b6bd2-7572-4725-960d-00deaa884f5b",
   "metadata": {
    "tags": []
   },
   "outputs": [],
   "source": [
    "for grid_element_i in range(n):\n",
    "    downloadGridElement(grid_element_i)"
   ]
  },
  {
   "cell_type": "code",
   "execution_count": 135,
   "id": "29fd186d-7b76-44bf-b88a-a97de33c78d0",
   "metadata": {
    "tags": []
   },
   "outputs": [],
   "source": [
    "with multiprocess.Pool(2) as pool:\n",
    "    pool.map(downloadGridElement, range(n))"
   ]
  },
  {
   "cell_type": "markdown",
   "id": "0e05e4bd-ff4a-4694-bda1-26bfd6cbb22c",
   "metadata": {
    "jp-MarkdownHeadingCollapsed": true,
    "tags": []
   },
   "source": [
    "### Alternative, but does not check for existing files:"
   ]
  },
  {
   "cell_type": "code",
   "execution_count": null,
   "id": "46f5db58-a33a-4bd7-8677-f424904199b3",
   "metadata": {},
   "outputs": [],
   "source": [
    "geemap.download_ee_image_tiles_parallel(tucsonLandsat, coveringGrid, out_dir=outputPath, shape=(256, 256), crs='EPSG:4326', prefix=f\"tucsonImage_\")"
   ]
  }
 ],
 "metadata": {
  "kernelspec": {
   "display_name": "Python 3 (ipykernel)",
   "language": "python",
   "name": "python3"
  },
  "language_info": {
   "codemirror_mode": {
    "name": "ipython",
    "version": 3
   },
   "file_extension": ".py",
   "mimetype": "text/x-python",
   "name": "python",
   "nbconvert_exporter": "python",
   "pygments_lexer": "ipython3",
   "version": "3.11.4"
  }
 },
 "nbformat": 4,
 "nbformat_minor": 5
}
